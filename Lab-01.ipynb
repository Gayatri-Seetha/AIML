{
 "cells": [
  {
   "cell_type": "markdown",
   "id": "23ab6310",
   "metadata": {},
   "source": [
    "# Python libraries and Packages"
   ]
  },
  {
   "cell_type": "markdown",
   "id": "de8f06ff",
   "metadata": {},
   "source": [
    "### Part 1 – Implement Basic Data Structures using Numpy, Pandas\n",
    "1. Lists\n",
    "2. Arrays\n",
    "3. Identify their type using type()\n",
    "4. Perform mathematical operations on these datasets created - multiplication, division,poweroff\n",
    "5. Combine text with Numpy fuction to generate a textual output - ”Addition of Two:array1 +array 2\n",
    "6. Implement np.sin(), log(), log2(), np.exp())"
   ]
  },
  {
   "cell_type": "code",
   "execution_count": 75,
   "id": "9d0341b9",
   "metadata": {},
   "outputs": [],
   "source": [
    "import numpy as np\n",
    "import pandas as pd\n",
    "import matplotlib.pyplot as plt"
   ]
  },
  {
   "cell_type": "code",
   "execution_count": 40,
   "id": "3be660c8",
   "metadata": {},
   "outputs": [
    {
     "data": {
      "text/plain": [
       "[1, 2, 3]"
      ]
     },
     "execution_count": 40,
     "metadata": {},
     "output_type": "execute_result"
    }
   ],
   "source": [
    "A = [1,2,3]\n",
    "arr1 = np.array(A)\n",
    "A"
   ]
  },
  {
   "cell_type": "code",
   "execution_count": 41,
   "id": "e4ba00e8",
   "metadata": {},
   "outputs": [
    {
     "data": {
      "text/plain": [
       "list"
      ]
     },
     "execution_count": 41,
     "metadata": {},
     "output_type": "execute_result"
    }
   ],
   "source": [
    "type(A)"
   ]
  },
  {
   "cell_type": "code",
   "execution_count": 42,
   "id": "090b115c",
   "metadata": {},
   "outputs": [
    {
     "data": {
      "text/plain": [
       "array([1, 2, 3])"
      ]
     },
     "execution_count": 42,
     "metadata": {},
     "output_type": "execute_result"
    }
   ],
   "source": [
    "arr1"
   ]
  },
  {
   "cell_type": "code",
   "execution_count": 34,
   "id": "7b1b1754",
   "metadata": {},
   "outputs": [
    {
     "data": {
      "text/plain": [
       "numpy.ndarray"
      ]
     },
     "execution_count": 34,
     "metadata": {},
     "output_type": "execute_result"
    }
   ],
   "source": [
    "type(arr1)"
   ]
  },
  {
   "cell_type": "code",
   "execution_count": 35,
   "id": "7e1d54df",
   "metadata": {},
   "outputs": [
    {
     "data": {
      "text/plain": [
       "array([3, 2, 1])"
      ]
     },
     "execution_count": 35,
     "metadata": {},
     "output_type": "execute_result"
    }
   ],
   "source": [
    "B= [3,2,1]\n",
    "arr2 = np.array(B)\n",
    "arr2"
   ]
  },
  {
   "cell_type": "code",
   "execution_count": 36,
   "id": "fb23a8bc",
   "metadata": {},
   "outputs": [
    {
     "data": {
      "text/plain": [
       "list"
      ]
     },
     "execution_count": 36,
     "metadata": {},
     "output_type": "execute_result"
    }
   ],
   "source": [
    "type(B)"
   ]
  },
  {
   "cell_type": "code",
   "execution_count": 37,
   "id": "b960dd61",
   "metadata": {},
   "outputs": [
    {
     "data": {
      "text/plain": [
       "numpy.ndarray"
      ]
     },
     "execution_count": 37,
     "metadata": {},
     "output_type": "execute_result"
    }
   ],
   "source": [
    "type(arr2)"
   ]
  },
  {
   "cell_type": "code",
   "execution_count": 47,
   "id": "c3f591f3",
   "metadata": {},
   "outputs": [
    {
     "name": "stdout",
     "output_type": "stream",
     "text": [
      "MUl: [3 4 3]\n",
      "DIV: [0.33333333 1.         3.        ]\n",
      "arr1 power arr2: [1 4 3]\n",
      "arr2 power arr1: [3 4 1]\n"
     ]
    }
   ],
   "source": [
    "print(\"MUl:\",arr1 * arr2)\n",
    "print(\"DIV:\",arr1 / arr2)\n",
    "print(\"arr1 power arr2:\",arr1 ** arr2)\n",
    "print(\"arr2 power arr1:\",arr2 ** arr1)"
   ]
  },
  {
   "cell_type": "code",
   "execution_count": 48,
   "id": "7e81b86f",
   "metadata": {},
   "outputs": [
    {
     "name": "stdout",
     "output_type": "stream",
     "text": [
      "Sine:  [0.84147098 0.90929743 0.14112001]\n",
      "Natural log:  [0.         0.69314718 1.09861229]\n",
      "Base-10 log:  [0.         0.30103    0.47712125]\n",
      "Base-2 log:  [0.        1.        1.5849625]\n",
      "Exponential:  [ 2.71828183  7.3890561  20.08553692]\n"
     ]
    }
   ],
   "source": [
    "#sine\n",
    "print(\"Sine: \",np.sin(arr1))\n",
    "#log\n",
    "print(\"Natural log: \",np.log(arr1))\n",
    "print(\"Base-10 log: \",np.log10(arr1))\n",
    "print(\"Base-2 log: \",np.log2(arr1))\n",
    "#Exponential\n",
    "print(\"Exponential: \",np.exp(arr1))"
   ]
  },
  {
   "cell_type": "code",
   "execution_count": 49,
   "id": "9dfbe8fa",
   "metadata": {},
   "outputs": [
    {
     "name": "stdout",
     "output_type": "stream",
     "text": [
      "Addition of two numpy arrays {arr1} and {arr2} together:  [4 4 4]\n"
     ]
    }
   ],
   "source": [
    "print(\"Addition of two numpy arrays {arr1} and {arr2} together: \",arr1+arr2)"
   ]
  },
  {
   "cell_type": "markdown",
   "id": "cc74fedc",
   "metadata": {},
   "source": [
    "### Part 2 – Visualization of Data using matplotlib, pyplots Packages\n",
    "1. Generate a Data set for Health Care using the following:\n",
    "people = [’kiran’, arun’, ’vijay’, ’varun’]\n",
    "age =[25, 30, 35, 40, 45]\n",
    "height =[145, 151, 165, 173]\n",
    "weight=[45, 55, 65, 75]\n",
    "2. Using the generated dataset given above. Generate the following graphs and justify the relationships among the vectors.\n",
    "3. Scatter Plot\n",
    "4. Bar Chart\n",
    "5. Histogram\n",
    "6. Provide Graph Title, labels for X, Y axis with proper justification and explaination of the graph."
   ]
  },
  {
   "cell_type": "code",
   "execution_count": 67,
   "id": "e19d14ea",
   "metadata": {},
   "outputs": [],
   "source": [
    "people = ['kiran', 'arun', 'vijay', 'varun']\n",
    "age =[25, 30, 35, 40]\n",
    "height =[145, 151, 165, 173]\n",
    "weight=[45, 55, 65, 75]"
   ]
  },
  {
   "cell_type": "code",
   "execution_count": 61,
   "id": "87e87cb5",
   "metadata": {},
   "outputs": [
    {
     "data": {
      "image/png": "[encoded data removed]",
      "text/plain": [
       "<Figure size 640x480 with 1 Axes>"
      ]
     },
     "metadata": {},
     "output_type": "display_data"
    }
   ],
   "source": [
    "plt.scatter(weight,height)\n",
    "plt.title(\"Relationship between height amd weight\")\n",
    "plt.xlabel(\"weight\")\n",
    "plt.ylabel(\"Height\")\n",
    "plt.show()"
   ]
  },
  {
   "cell_type": "code",
   "execution_count": 73,
   "id": "698fdfa2",
   "metadata": {},
   "outputs": [
    {
     "data": {
      "image/png": "[encoded data removed]",
      "text/plain": [
       "<Figure size 500x400 with 1 Axes>"
      ]
     },
     "metadata": {},
     "output_type": "display_data"
    }
   ],
   "source": [
    "plt.figure(figsize=(5,4))\n",
    "plt.bar(x=people, height=weight, width= 0.6, color='orange', edgecolor = 'k', alpha=0.6)\n",
    "plt.title(\"Relationship between age amd weight\")\n",
    "plt.xlabel(\"age\")\n",
    "plt.ylabel(\"Height\")\n",
    "plt.show()"
   ]
  },
  {
   "cell_type": "code",
   "execution_count": 77,
   "id": "6c185b4f",
   "metadata": {},
   "outputs": [
    {
     "data": {
      "image/png": "[encoded data removed]",
      "text/plain": [
       "<Figure size 640x480 with 1 Axes>"
      ]
     },
     "metadata": {},
     "output_type": "display_data"
    }
   ],
   "source": [
    "plt.hist(weight,bins=5)\n",
    "plt.title(\"Relationship between height amd weight\")\n",
    "plt.xlabel(\"weight\")\n",
    "plt.ylabel(\"Height\")\n",
    "plt.show()"
   ]
  },
  {
   "cell_type": "markdown",
   "id": "359c9475",
   "metadata": {},
   "source": [
    "### Part 3 – Access Data from Various Data Sources using builtin Function of Numpy, Pandas\n",
    "1. Generate your own dataset using MS Excel and Notepad to prepare the dataset. Save it in Google Drive and access it in Google Colab.\n",
    "2. Upload the text file using tab seperated value(.tsv) and access the data from the file.\n",
    "3. Upload the text file using comma seperated value(.csv) and access the data from file.\n",
    "4. Access the excel file using .xlsx\n",
    "5. Access the text from the URL"
   ]
  },
  {
   "cell_type": "code",
   "execution_count": 86,
   "id": "aea55dbe",
   "metadata": {},
   "outputs": [
    {
     "data": {
      "text/html": [
       "<div>\n",
       "<style scoped>\n",
       "    .dataframe tbody tr th:only-of-type {\n",
       "        vertical-align: middle;\n",
       "    }\n",
       "\n",
       "    .dataframe tbody tr th {\n",
       "        vertical-align: top;\n",
       "    }\n",
       "\n",
       "    .dataframe thead th {\n",
       "        text-align: right;\n",
       "    }\n",
       "</style>\n",
       "<table border=\"1\" class=\"dataframe\">\n",
       "  <thead>\n",
       "    <tr style=\"text-align: right;\">\n",
       "      <th></th>\n",
       "      <th>StName</th>\n",
       "      <th>StID</th>\n",
       "      <th>age</th>\n",
       "      <th>weight</th>\n",
       "      <th>height</th>\n",
       "    </tr>\n",
       "  </thead>\n",
       "  <tbody>\n",
       "    <tr>\n",
       "      <th>0</th>\n",
       "      <td>Gayatri</td>\n",
       "      <td>2234</td>\n",
       "      <td>19</td>\n",
       "      <td>50</td>\n",
       "      <td>152</td>\n",
       "    </tr>\n",
       "    <tr>\n",
       "      <th>1</th>\n",
       "      <td>Rishu</td>\n",
       "      <td>2137</td>\n",
       "      <td>18</td>\n",
       "      <td>40</td>\n",
       "      <td>153</td>\n",
       "    </tr>\n",
       "    <tr>\n",
       "      <th>2</th>\n",
       "      <td>Rash</td>\n",
       "      <td>2209</td>\n",
       "      <td>20</td>\n",
       "      <td>55</td>\n",
       "      <td>150</td>\n",
       "    </tr>\n",
       "    <tr>\n",
       "      <th>3</th>\n",
       "      <td>Sanj</td>\n",
       "      <td>3306</td>\n",
       "      <td>25</td>\n",
       "      <td>60</td>\n",
       "      <td>160</td>\n",
       "    </tr>\n",
       "    <tr>\n",
       "      <th>4</th>\n",
       "      <td>pooja</td>\n",
       "      <td>1370</td>\n",
       "      <td>16</td>\n",
       "      <td>55</td>\n",
       "      <td>169</td>\n",
       "    </tr>\n",
       "  </tbody>\n",
       "</table>\n",
       "</div>"
      ],
      "text/plain": [
       "    StName  StID  age  weight  height\n",
       "0  Gayatri  2234   19      50     152\n",
       "1    Rishu  2137   18      40     153\n",
       "2     Rash  2209   20      55     150\n",
       "3     Sanj  3306   25      60     160\n",
       "4    pooja  1370   16      55     169"
      ]
     },
     "execution_count": 86,
     "metadata": {},
     "output_type": "execute_result"
    }
   ],
   "source": [
    "df1 = pd.read_excel('student.xlsx')\n",
    "df1"
   ]
  },
  {
   "cell_type": "code",
   "execution_count": 85,
   "id": "14e70991",
   "metadata": {},
   "outputs": [
    {
     "data": {
      "text/html": [
       "<div>\n",
       "<style scoped>\n",
       "    .dataframe tbody tr th:only-of-type {\n",
       "        vertical-align: middle;\n",
       "    }\n",
       "\n",
       "    .dataframe tbody tr th {\n",
       "        vertical-align: top;\n",
       "    }\n",
       "\n",
       "    .dataframe thead th {\n",
       "        text-align: right;\n",
       "    }\n",
       "</style>\n",
       "<table border=\"1\" class=\"dataframe\">\n",
       "  <thead>\n",
       "    <tr style=\"text-align: right;\">\n",
       "      <th></th>\n",
       "      <th>A</th>\n",
       "      <th>B</th>\n",
       "      <th>C</th>\n",
       "    </tr>\n",
       "  </thead>\n",
       "  <tbody>\n",
       "    <tr>\n",
       "      <th>0</th>\n",
       "      <td>12</td>\n",
       "      <td>13</td>\n",
       "      <td>14</td>\n",
       "    </tr>\n",
       "    <tr>\n",
       "      <th>1</th>\n",
       "      <td>15</td>\n",
       "      <td>16</td>\n",
       "      <td>17</td>\n",
       "    </tr>\n",
       "    <tr>\n",
       "      <th>2</th>\n",
       "      <td>18</td>\n",
       "      <td>19</td>\n",
       "      <td>20</td>\n",
       "    </tr>\n",
       "    <tr>\n",
       "      <th>3</th>\n",
       "      <td>21</td>\n",
       "      <td>22</td>\n",
       "      <td>23</td>\n",
       "    </tr>\n",
       "    <tr>\n",
       "      <th>4</th>\n",
       "      <td>24</td>\n",
       "      <td>15</td>\n",
       "      <td>16</td>\n",
       "    </tr>\n",
       "  </tbody>\n",
       "</table>\n",
       "</div>"
      ],
      "text/plain": [
       "    A   B   C\n",
       "0  12  13  14\n",
       "1  15  16  17\n",
       "2  18  19  20\n",
       "3  21  22  23\n",
       "4  24  15  16"
      ]
     },
     "execution_count": 85,
     "metadata": {},
     "output_type": "execute_result"
    }
   ],
   "source": [
    "df2 = pd.read_table('abc.tsv')\n",
    "df2"
   ]
  },
  {
   "cell_type": "code",
   "execution_count": 82,
   "id": "c2b725f3",
   "metadata": {},
   "outputs": [
    {
     "data": {
      "text/html": [
       "<div>\n",
       "<style scoped>\n",
       "    .dataframe tbody tr th:only-of-type {\n",
       "        vertical-align: middle;\n",
       "    }\n",
       "\n",
       "    .dataframe tbody tr th {\n",
       "        vertical-align: top;\n",
       "    }\n",
       "\n",
       "    .dataframe thead th {\n",
       "        text-align: right;\n",
       "    }\n",
       "</style>\n",
       "<table border=\"1\" class=\"dataframe\">\n",
       "  <thead>\n",
       "    <tr style=\"text-align: right;\">\n",
       "      <th></th>\n",
       "      <th>StName</th>\n",
       "      <th>StID</th>\n",
       "      <th>age</th>\n",
       "      <th>weight</th>\n",
       "      <th>\\theight</th>\n",
       "    </tr>\n",
       "  </thead>\n",
       "  <tbody>\n",
       "    <tr>\n",
       "      <th>0</th>\n",
       "      <td>Gayatri</td>\n",
       "      <td>2234</td>\n",
       "      <td>19</td>\n",
       "      <td>50</td>\n",
       "      <td>152</td>\n",
       "    </tr>\n",
       "    <tr>\n",
       "      <th>1</th>\n",
       "      <td>Rishu</td>\n",
       "      <td>2137</td>\n",
       "      <td>18</td>\n",
       "      <td>40</td>\n",
       "      <td>153</td>\n",
       "    </tr>\n",
       "    <tr>\n",
       "      <th>2</th>\n",
       "      <td>Rash</td>\n",
       "      <td>2209</td>\n",
       "      <td>20</td>\n",
       "      <td>55</td>\n",
       "      <td>150</td>\n",
       "    </tr>\n",
       "    <tr>\n",
       "      <th>3</th>\n",
       "      <td>Sanj</td>\n",
       "      <td>3306</td>\n",
       "      <td>25</td>\n",
       "      <td>60</td>\n",
       "      <td>160</td>\n",
       "    </tr>\n",
       "    <tr>\n",
       "      <th>4</th>\n",
       "      <td>pooja</td>\n",
       "      <td>1370</td>\n",
       "      <td>16</td>\n",
       "      <td>55</td>\n",
       "      <td>169</td>\n",
       "    </tr>\n",
       "  </tbody>\n",
       "</table>\n",
       "</div>"
      ],
      "text/plain": [
       "    StName  StID  age  weight  \\theight\n",
       "0  Gayatri  2234   19      50       152\n",
       "1    Rishu  2137   18      40       153\n",
       "2     Rash  2209   20      55       150\n",
       "3     Sanj  3306   25      60       160\n",
       "4    pooja  1370   16      55       169"
      ]
     },
     "execution_count": 82,
     "metadata": {},
     "output_type": "execute_result"
    }
   ],
   "source": [
    "df3 = pd.read_csv('student.csv')\n",
    "df3"
   ]
  },
  {
   "cell_type": "code",
   "execution_count": null,
   "id": "3ea309e6",
   "metadata": {},
   "outputs": [],
   "source": []
  }
 ],
 "metadata": {
  "kernelspec": {
   "display_name": "Python 3 (ipykernel)",
   "language": "python",
   "name": "python3"
  },
  "language_info": {
   "codemirror_mode": {
    "name": "ipython",
    "version": 3
   },
   "file_extension": ".py",
   "mimetype": "text/x-python",
   "name": "python",
   "nbconvert_exporter": "python",
   "pygments_lexer": "ipython3",
   "version": "3.11.4"
  }
 },
 "nbformat": 4,
 "nbformat_minor": 5
}
