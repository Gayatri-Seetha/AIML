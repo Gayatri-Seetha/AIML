{
 "cells": [
  {
   "cell_type": "markdown",
   "id": "46255164",
   "metadata": {},
   "source": [
    "# Implement Breadth First, Depth First and A* Search Algorithms"
   ]
  },
  {
   "cell_type": "markdown",
   "id": "288756a9",
   "metadata": {},
   "source": [
    "### Part 1 – Implement Breadth First Search Algorithm using a Queue\n",
    "1. Given a graph with adjacency list and a starting vertex and we have to traverse thegraph.\n",
    "2. We will first print the value in the starting vertex,\n",
    "3. Continue to print the value of neighbors of the starting vertex and\n",
    "4. Next move on to the next level after completing the current level till all the vertices ofthe graph are printed."
   ]
  },
  {
   "cell_type": "code",
   "execution_count": 1,
   "id": "2bcfada4",
   "metadata": {},
   "outputs": [],
   "source": [
    "import numpy as np\n",
    "from queue import Queue"
   ]
  },
  {
   "cell_type": "code",
   "execution_count": 3,
   "id": "e2a1d005",
   "metadata": {},
   "outputs": [
    {
     "name": "stdout",
     "output_type": "stream",
     "text": [
      "The adjacency list representing the graph: \n"
     ]
    },
    {
     "data": {
      "text/plain": [
       "{0: [1, 3],\n",
       " 1: [0, 2, 3],\n",
       " 2: [1, 4, 5],\n",
       " 3: [0, 1, 4],\n",
       " 4: [2, 3, 5],\n",
       " 5: [2, 4],\n",
       " 6: []}"
      ]
     },
     "execution_count": 3,
     "metadata": {},
     "output_type": "execute_result"
    }
   ],
   "source": [
    "graph = {0: [1,3], 1:[0,2,3], 2:[1,4,5], 3:[0,1,4], 4:[2,3,5], 5:[2,4], 6:[]}\n",
    "print(\"The adjacency list representing the graph: \")\n",
    "graph"
   ]
  },
  {
   "cell_type": "code",
   "execution_count": null,
   "id": "92bb28c9",
   "metadata": {},
   "outputs": [],
   "source": [
    "def bfs(graph,source):\n",
    "    Q = Queue()\n",
    "    visited_vertices = set()\n",
    "    Q.put(source)\n",
    "    visited_vertices.update({0})\n",
    "    while not Q.empty():\n",
    "        vertex = Q.get()\n",
    "        print(vertex, end='-->')\n",
    "        for u in graph[vertex]:\n",
    "            if u not in visited_vertices:\n",
    "                Q.put(u)\n",
    "                visited_vertices.update({u})\n",
    "                \n",
    "print(\"BFS traversal of graph with source 0 is: \")\n"
   ]
  }
 ],
 "metadata": {
  "kernelspec": {
   "display_name": "Python 3 (ipykernel)",
   "language": "python",
   "name": "python3"
  },
  "language_info": {
   "codemirror_mode": {
    "name": "ipython",
    "version": 3
   },
   "file_extension": ".py",
   "mimetype": "text/x-python",
   "name": "python",
   "nbconvert_exporter": "python",
   "pygments_lexer": "ipython3",
   "version": "3.11.4"
  }
 },
 "nbformat": 4,
 "nbformat_minor": 5
}
